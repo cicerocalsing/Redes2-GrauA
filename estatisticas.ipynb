{
 "cells": [
  {
   "cell_type": "markdown",
   "id": "ba35a6da",
   "metadata": {},
   "source": [
    "#### Importando bibliotecas"
   ]
  },
  {
   "cell_type": "code",
   "execution_count": 5,
   "id": "c818a75e",
   "metadata": {},
   "outputs": [
    {
     "name": "stdout",
     "output_type": "stream",
     "text": [
      "🔄 Testando router0 → 192.168.2.2\n",
      "🔄 Testando router2 → 192.168.0.2\n",
      "🔄 Testando router3 → 192.168.1.2\n"
     ]
    }
   ],
   "source": [
    "%run funcoes_automatizadas.py"
   ]
  },
  {
   "cell_type": "code",
   "execution_count": 2,
   "id": "f2b19d33",
   "metadata": {},
   "outputs": [],
   "source": [
    "#Função que mostra a tabela de roteamento\n",
    "def run_ospf_ip_route():  \n",
    "  return subprocess.check_output([\n",
    "      \"docker\", \"exec\", \"router0\", \"vtysh\", \"-c\", \"show ip route\"\n",
    "  ]).decode()"
   ]
  },
  {
   "cell_type": "code",
   "execution_count": 3,
   "id": "cffd1187",
   "metadata": {},
   "outputs": [
    {
     "data": {
      "text/plain": [
       "'Codes: K - kernel route, C - connected, S - static, R - RIP,\\n       O - OSPF, I - IS-IS, B - BGP, E - EIGRP, N - NHRP,\\n       T - Table, v - VNC, V - VNC-Direct, A - Babel, F - PBR,\\n       f - OpenFabric,\\n       > - selected route, * - FIB route, q - queued, r - rejected, b - backup\\n       t - trapped, o - offload failure\\n\\nK>* 0.0.0.0/0 [0/0] via 192.168.0.254, eth0, 03:38:20\\nO   192.168.0.0/24 [110/10] is directly connected, eth0, weight 1, 03:38:19\\nC>* 192.168.0.0/24 is directly connected, eth0, 03:38:20\\nO>* 192.168.1.0/24 [110/20] via 192.168.0.1, eth0, weight 1, 03:37:37\\nO>* 192.168.2.0/24 [110/20] via 192.168.0.1, eth0, weight 1, 03:37:37\\n'"
      ]
     },
     "execution_count": 3,
     "metadata": {},
     "output_type": "execute_result"
    }
   ],
   "source": [
    "run_ospf_ip_route()"
   ]
  },
  {
   "cell_type": "markdown",
   "id": "216ecc89",
   "metadata": {},
   "source": [
    "<!-- \n",
    " -->"
   ]
  },
  {
   "cell_type": "markdown",
   "id": "7a7a40af",
   "metadata": {},
   "source": []
  },
  {
   "cell_type": "markdown",
   "id": "da97ee08",
   "metadata": {},
   "source": []
  },
  {
   "cell_type": "markdown",
   "id": "09fc5d13",
   "metadata": {},
   "source": [
    "<!-- import subprocess\n",
    "import time\n",
    "import threading\n",
    "\n",
    "# # ----- ROUTING TABLES -----\n",
    "# def run_ospf_ip_route():  \n",
    "#   return subprocess.check_output([\n",
    "#       \"docker\", \"exec\", \"router_ospf_0\", \"vtysh\", \"-c\", \"show ip route\"\n",
    "#   ]).decode()\n",
    "\n",
    "# def run_rip_ip_route():\n",
    "#   return subprocess.check_output([\n",
    "#       \"docker\", \"exec\", \"router_rip_0\", \"vtysh\", \"-c\", \"show ip route\"\n",
    "#   ]).decode()  \n",
    "\n",
    "# ospf_ip_route = run_ospf_ip_route()\n",
    "# rip_ip_route = run_rip_ip_route()\n",
    "\n",
    "# # Get OSPF and RIP lines\n",
    "# ospf_rows = ospf_ip_route.strip().splitlines()\n",
    "# rip_rows = rip_ip_route.strip().splitlines()\n",
    "\n",
    "\n",
    "# print(\"----------OSPF IP Route:-----------\")\n",
    "# for row in ospf_rows:\n",
    "#   print(row)\n",
    "\n",
    "# print(\"\\n----------RIP IP Route:-----------\")\n",
    "# for row in rip_rows:\n",
    "#   print(row)\n",
    "# # -------------------------------------\n",
    "\n",
    "# ----- SHUTDOWN CONTAINER AFTER A PING -----\n",
    "def ping_loop(target_ip, origin_container, results, stop_event):\n",
    "  while not stop_event.is_set():\n",
    "    try:\n",
    "      output = subprocess.check_output([\n",
    "        'docker', 'exec', origin_container, 'ping', '-c', '1', '-W', '1', target_ip\n",
    "      ], stderr=subprocess.DEVNULL)\n",
    "      print(output.decode())\n",
    "      success = True\n",
    "    except subprocess.CalledProcessError:\n",
    "      success = False\n",
    "    timestamp = time.time()\n",
    "    results.append((timestamp, success))\n",
    "    time.sleep(0.5)\n",
    "\n",
    "def measure_with_docker(routing_procol, target_ip, origin_container, container_to_stop, delay_before_stop=5):  \n",
    "  print(f\"🚀 Starting ping loop from {origin_container} to {target_ip}... Using {routing_procol}\")\n",
    "  results = []\n",
    "  stop_event = threading.Event()\n",
    "  thread = threading.Thread(target=ping_loop, args=(target_ip, origin_container, results, stop_event))\n",
    "  thread.daemon = True\n",
    "  thread.start()\n",
    "  print(f\"⏳ Waiting {delay_before_stop}s before shutting router down...\")\n",
    "  time.sleep(delay_before_stop)\n",
    "\n",
    "  print(f\"⛔ Stoping container {container_to_stop}...\")\n",
    "  subprocess.run(['docker', 'stop', container_to_stop], stdout=subprocess.DEVNULL)\n",
    "\n",
    "  print(\"⏱️ Waiting ping to work again...\")\n",
    "  stop_at, back_at = None, None\n",
    "  while True:\n",
    "    for i in range(1, len(results)):\n",
    "      previous, current = results[i-1], results[i]\n",
    "      previous_success, current_success = previous[1], current[1]\n",
    "      if not stop_at and previous_success and not current_success:\n",
    "        stop_at = current[0] \n",
    "      elif stop_at and not previous_success and current_success:\n",
    "        back_at = current[0]\n",
    "        break\n",
    "    if back_at:\n",
    "      break\n",
    "    time.sleep(0.1)\n",
    " \n",
    "  stop_event.set()\n",
    "  thread.join()\n",
    "  print(f\"🕒 {routing_procol} reconvergence time: {back_at - stop_at:.2f}s\")\n",
    "\n",
    "# ----- MEASURE OSPF -----\n",
    "measure_with_docker(\n",
    "  routing_procol=\"OSPF\",\n",
    "  target_ip=\"192.168.5.2\", \n",
    "  origin_container=\"router_ospf_3\",\n",
    "  container_to_stop=\"router_ospf_0\", \n",
    "  delay_before_stop=1\n",
    ")\n",
    "print(\"\\n💤 Aguardando 5s antes de medir o RIP...\\n\")\n",
    "time.sleep(5)\n",
    "# # ----- MEASURE RIP -----\n",
    "# measure_with_docker(\n",
    "#   routing_procol=\"RIP\",\n",
    "#   target_ip=\"192.168.1.2\",\n",
    "#   origin_container=\"router_rip_3\",\n",
    "#   container_to_stop=\"router_rip_0\",\n",
    "#   delay_before_stop=1\n",
    "# ) -->"
   ]
  },
  {
   "cell_type": "markdown",
   "id": "0a4a2392",
   "metadata": {},
   "source": []
  }
 ],
 "metadata": {
  "kernelspec": {
   "display_name": "base",
   "language": "python",
   "name": "python3"
  },
  "language_info": {
   "codemirror_mode": {
    "name": "ipython",
    "version": 3
   },
   "file_extension": ".py",
   "mimetype": "text/x-python",
   "name": "python",
   "nbconvert_exporter": "python",
   "pygments_lexer": "ipython3",
   "version": "3.12.7"
  }
 },
 "nbformat": 4,
 "nbformat_minor": 5
}
